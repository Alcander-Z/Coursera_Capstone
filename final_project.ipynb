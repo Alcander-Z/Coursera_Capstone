{
 "cells": [
  {
   "cell_type": "markdown",
   "metadata": {},
   "source": [
    "<h1 align=\"center\"> Peer-graded Assignment: Capstone Project - The Battle of Neighborhoods</h1>\n",
    "<h2 align=\"center\"> Is a real estate sell price good, fair, or above average?</h2>"
   ]
  },
  {
   "cell_type": "markdown",
   "metadata": {},
   "source": [
    "### Background and Proposal"
   ]
  },
  {
   "cell_type": "markdown",
   "metadata": {},
   "source": [
    "When you want to by a car, you go to [AutoTrader](https://www.autotrader.ca/) or [CarGuru](https://ca.cargurus.com/). One sweet thing about using such websites is that they tell you the car you are interested has a below-market price or above market price based on their own algorithms. \n",
    "\n",
    "However, when you looking for either renting or buying a real estate from websites such as [Centris](https://www.centris.ca/en/) or [DuProprio](https://duproprio.com/en), you won't be able to find neither if similar real estate exists somewhere else in the city nor if it's price is below market (a.k.a., a good deal).\n",
    "\n",
    "Is such thing should be done? I certainly think so. One of my friends recently wants to buy a condomunium in Montreal. He told me it is exhausting to find an ideal condo to buy. Sometime the location is acceptable but the price is way above the budget, sometimes the price is fair but location isn't ideal. He literrally has to view all the available condos and compare them by heart to determine which one is the best.\n",
    "\n",
    "My friend's experience has intrggered me to develop a tool that can:\n",
    "\n",
    "1. find similar for sale real estate based on the one you are interested, and\n",
    "2. build a price regression model and predict if the sale price is above or below the market.\n",
    "\n",
    "This tool can help to fast locate other similar real estates once you have on in mind. It also sets a reference on price to help you determine which one is worth buying.\n",
    "\n",
    "How am I going to do it? The first and foremost step is to find the for sale real estates. I intend to use web crawler to get data from [DuProprio](https://duproprio.com/en). The real estate data shall have the following information:\n",
    "\n",
    "- identification, e.g., url or Centris No.\n",
    "- address\n",
    "- sale price\n",
    "- number of rooms\n",
    "- areas\n",
    "- built year\n",
    "\n",
    "Then I will use the address to extract the neighbourhood informaiton from [Foursquare](https://foursquare.com/city-guide). I will categorize the neighbourhood venues into several main categories such as:\n",
    "\n",
    "- parks\n",
    "- grocery stores\n",
    "- schools\n",
    "- clinic/hospital\n",
    "- public transportation\n",
    "\n",
    "All the data shall be ready by now. The tool will take one specific real estate as an input and find all similar ones by using segmentation and clustering technique. A price regression model is further developed within one cluster. Using the regression model to predict the price for all similar real estates will give reference on price. Finally, display all the candidates in ascending order of (actual price - predicted price)."
   ]
  },
  {
   "cell_type": "code",
   "execution_count": null,
   "metadata": {},
   "outputs": [],
   "source": []
  }
 ],
 "metadata": {
  "kernelspec": {
   "display_name": "Python 3",
   "language": "python",
   "name": "python3"
  },
  "language_info": {
   "codemirror_mode": {
    "name": "ipython",
    "version": 3
   },
   "file_extension": ".py",
   "mimetype": "text/x-python",
   "name": "python",
   "nbconvert_exporter": "python",
   "pygments_lexer": "ipython3",
   "version": "3.6.4"
  }
 },
 "nbformat": 4,
 "nbformat_minor": 2
}
