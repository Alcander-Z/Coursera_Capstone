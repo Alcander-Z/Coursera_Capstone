{
 "cells": [
  {
   "cell_type": "markdown",
   "metadata": {},
   "source": [
    "<h1 align=\"center\"> Peer-graded Assignment: Capstone Project - The Battle of Neighborhoods</h1>\n",
    "<h2 align=\"center\"> Is a real estate sell price good, fair, or above average?</h2>"
   ]
  },
  {
   "cell_type": "markdown",
   "metadata": {},
   "source": [
    "### Background and Proposal"
   ]
  },
  {
   "cell_type": "markdown",
   "metadata": {},
   "source": [
    "When you want to by a car, you go to [AutoTrader](https://www.autotrader.ca/) or [CarGuru](https://ca.cargurus.com/). One sweet thing about using such websites is that they tell you the car you are interested has a below-market price or above market price based on their own algorithms. \n",
    "\n",
    "However, when you looking for either renting or buying a real estate from websites such as [Centris](https://www.centris.ca/en/) or [DuProprio](https://duproprio.com/en), you won't be able to find neither if similar real estate exists somewhere else in the city nor if it's price is below market (a.k.a., a good deal).\n",
    "\n",
    "Is such thing should be done? I certainly think so. One of my friends recently wants to buy a condomunium in Montreal. He told me it is exhausting to find an ideal condo to buy. Sometime the location is acceptable but the price is way above the budget, sometimes the price is fair but location isn't ideal. He literrally has to view all the available condos and compare them by heart to determine which one is the best.\n",
    "\n",
    "My friend's experience has intrggered me to develop a tool that can:\n",
    "\n",
    "1. find similar for sale real estate based on the one you are interested, and\n",
    "2. build a price regression model and predict if the sale price is above or below the market.\n",
    "\n",
    "This tool can help to fast locate other similar real estates once you have on in mind. It also sets a reference on price to help you determine which one is worth buying.\n",
    "\n",
    "How am I going to do it? The first and foremost step is to find the for sale real estates. I intend to use web crawler to get data from [DuProprio](https://duproprio.com/en). The real estate data shall have the following information:\n",
    "\n",
    "- address\n",
    "- sale price\n",
    "- number of rooms\n",
    "- areas\n",
    "- built year\n",
    "\n",
    "Then I will use the address to extract the neighbourhood informaiton from [Foursquare](https://foursquare.com/city-guide). I will categorize the neighbourhood venues into several main categories such as:\n",
    "\n",
    "- parks\n",
    "- grocery stores\n",
    "- schools\n",
    "- clinic/hospital\n",
    "- public transportation\n",
    "\n",
    "All the data shall be ready by now. The tool will take one specific real estate as an input and find all similar ones by using segmentation and clustering technique. A price regression model is further developed within one cluster. Using the regression model to predict the price for all similar real estates will give reference on price. Finally, display all the candidates in ascending order of (actual price - predicted price)."
   ]
  },
  {
   "cell_type": "markdown",
   "metadata": {},
   "source": [
    "### Data"
   ]
  },
  {
   "cell_type": "markdown",
   "metadata": {},
   "source": [
    "I used a [web scrawler](https://github.com/Alcander-Z/MTL_house) to collect data about real estate for sale from [DuProprio](https://duproprio.com/en/search/list?search=true&regions%5B0%5D=6&is_for_sale=1&with_builders=1&parent=1&pageNumber=1&sort=-published_at). The raw data is saved as JSON file. It is available at [Here](https://github.com/Alcander-Z/Coursera_Capstone/blob/master/duproprio-20190517.json)\n",
    "\n",
    "Let's load it and convert to pandas DataFrame."
   ]
  },
  {
   "cell_type": "code",
   "execution_count": 1,
   "metadata": {},
   "outputs": [],
   "source": [
    "import json\n",
    "import pandas as pd"
   ]
  },
  {
   "cell_type": "code",
   "execution_count": 2,
   "metadata": {},
   "outputs": [],
   "source": [
    "with open(r'duproprio-20190517.json', 'r') as f:\n",
    "    jsf = json.load(f)\n",
    "df = pd.DataFrame.from_dict(jsf)"
   ]
  },
  {
   "cell_type": "markdown",
   "metadata": {},
   "source": [
    "Let's see the number of rows and columns of the dataframe"
   ]
  },
  {
   "cell_type": "code",
   "execution_count": 3,
   "metadata": {},
   "outputs": [
    {
     "data": {
      "text/plain": [
       "(1099, 13)"
      ]
     },
     "execution_count": 3,
     "metadata": {},
     "output_type": "execute_result"
    }
   ],
   "source": [
    "df.shape"
   ]
  },
  {
   "cell_type": "markdown",
   "metadata": {},
   "source": [
    "Let's the column names"
   ]
  },
  {
   "cell_type": "code",
   "execution_count": 4,
   "metadata": {},
   "outputs": [
    {
     "data": {
      "text/plain": [
       "array(['address', 'areas', 'backyard', 'bathrooms', 'bedrooms',\n",
       "       'category', 'floor_if_condo', 'levels', 'municipal', 'ownership',\n",
       "       'postalcode', 'price', 'year'], dtype=object)"
      ]
     },
     "execution_count": 4,
     "metadata": {},
     "output_type": "execute_result"
    }
   ],
   "source": [
    "df.columns.values"
   ]
  },
  {
   "cell_type": "markdown",
   "metadata": {},
   "source": [
    "There are 13 attributes (columns) of a real estate:\n",
    "\n",
    "- address and postalcode shall be used to define neighbourhood;\n",
    "- areas, bathrooms, bedrooms, years shall be used for the price regression model;\n",
    "\n",
    "Let's further look into the 'category' column:"
   ]
  },
  {
   "cell_type": "code",
   "execution_count": 5,
   "metadata": {},
   "outputs": [
    {
     "data": {
      "text/plain": [
       "Condominium      517\n",
       "New              110\n",
       "2                 80\n",
       "Duplex            72\n",
       "Bungalow          72\n",
       "Townhouse         63\n",
       "Triplex           54\n",
       "Semi-detached     39\n",
       "Split             22\n",
       "Quadruplex        19\n",
       "Quintuplex        14\n",
       "Commercial         8\n",
       "Loft               6\n",
       "6                  6\n",
       "Penthouse          4\n",
       "Storey             4\n",
       "Residential        4\n",
       "Raised             2\n",
       "3                  2\n",
       "Bi-generation      1\n",
       "Name: category, dtype: int64"
      ]
     },
     "execution_count": 5,
     "metadata": {},
     "output_type": "execute_result"
    }
   ],
   "source": [
    "df.category.value_counts()"
   ]
  },
  {
   "cell_type": "markdown",
   "metadata": {},
   "source": [
    "Category defines the type of a real estate. It is obvious that 'Condominium' is dominant in numbers among all. I will only use __condominium__ to continue the analysis."
   ]
  },
  {
   "cell_type": "code",
   "execution_count": 6,
   "metadata": {},
   "outputs": [
    {
     "data": {
      "text/html": [
       "<div>\n",
       "<style scoped>\n",
       "    .dataframe tbody tr th:only-of-type {\n",
       "        vertical-align: middle;\n",
       "    }\n",
       "\n",
       "    .dataframe tbody tr th {\n",
       "        vertical-align: top;\n",
       "    }\n",
       "\n",
       "    .dataframe thead th {\n",
       "        text-align: right;\n",
       "    }\n",
       "</style>\n",
       "<table border=\"1\" class=\"dataframe\">\n",
       "  <thead>\n",
       "    <tr style=\"text-align: right;\">\n",
       "      <th></th>\n",
       "      <th>address</th>\n",
       "      <th>areas</th>\n",
       "      <th>backyard</th>\n",
       "      <th>bathrooms</th>\n",
       "      <th>bedrooms</th>\n",
       "      <th>category</th>\n",
       "      <th>floor_if_condo</th>\n",
       "      <th>municipal</th>\n",
       "      <th>postalcode</th>\n",
       "      <th>price</th>\n",
       "      <th>year</th>\n",
       "    </tr>\n",
       "  </thead>\n",
       "  <tbody>\n",
       "    <tr>\n",
       "      <th>0</th>\n",
       "      <td>5985 Boyer, Rosemont / La Petite Patrie, QC</td>\n",
       "      <td>2,000 ft² (185.81 m²)</td>\n",
       "      <td>East</td>\n",
       "      <td>2.5</td>\n",
       "      <td>3.0</td>\n",
       "      <td>Condominium</td>\n",
       "      <td>1.0</td>\n",
       "      <td>394000.0</td>\n",
       "      <td>H2S 2H8</td>\n",
       "      <td>599000</td>\n",
       "      <td>1928</td>\n",
       "    </tr>\n",
       "    <tr>\n",
       "      <th>1</th>\n",
       "      <td>1008-3581 boulevard Gouin Est, Montréal-Nord, QC</td>\n",
       "      <td>1,100 ft² (102.19 m²)</td>\n",
       "      <td>None</td>\n",
       "      <td>1.5</td>\n",
       "      <td>2.0</td>\n",
       "      <td>Condominium</td>\n",
       "      <td>10.0</td>\n",
       "      <td>316600.0</td>\n",
       "      <td>H1H 0A1</td>\n",
       "      <td>349000</td>\n",
       "      <td>2006</td>\n",
       "    </tr>\n",
       "    <tr>\n",
       "      <th>2</th>\n",
       "      <td>16107 rue Forsyth, Pointe-Aux-Trembles / Montr...</td>\n",
       "      <td>911 ft² (84.63 m²)</td>\n",
       "      <td>North-West</td>\n",
       "      <td>1.0</td>\n",
       "      <td>2.0</td>\n",
       "      <td>Condominium</td>\n",
       "      <td>3.0</td>\n",
       "      <td>207200.0</td>\n",
       "      <td>H1A 5R8</td>\n",
       "      <td>200000</td>\n",
       "      <td>1999</td>\n",
       "    </tr>\n",
       "    <tr>\n",
       "      <th>3</th>\n",
       "      <td>711-680 rue de Courcelles, Le Sud-Ouest, QC</td>\n",
       "      <td>950 ft² (88.26 m²)</td>\n",
       "      <td>South</td>\n",
       "      <td>1.0</td>\n",
       "      <td>2.0</td>\n",
       "      <td>Condominium</td>\n",
       "      <td>7.0</td>\n",
       "      <td>339500.0</td>\n",
       "      <td>H4C 0B8</td>\n",
       "      <td>415000</td>\n",
       "      <td>2011</td>\n",
       "    </tr>\n",
       "    <tr>\n",
       "      <th>4</th>\n",
       "      <td>1-5230 rue Resther, Le Plateau-Mont-Royal, QC</td>\n",
       "      <td>106.4 m² (1 145.28 ft²)</td>\n",
       "      <td>None</td>\n",
       "      <td>2.5</td>\n",
       "      <td>2.0</td>\n",
       "      <td>Condominium</td>\n",
       "      <td>1.0</td>\n",
       "      <td>350700.0</td>\n",
       "      <td>H2J 2W3</td>\n",
       "      <td>415000</td>\n",
       "      <td>2005</td>\n",
       "    </tr>\n",
       "  </tbody>\n",
       "</table>\n",
       "</div>"
      ],
      "text/plain": [
       "                                             address                    areas  \\\n",
       "0        5985 Boyer, Rosemont / La Petite Patrie, QC    2,000 ft² (185.81 m²)   \n",
       "1   1008-3581 boulevard Gouin Est, Montréal-Nord, QC    1,100 ft² (102.19 m²)   \n",
       "2  16107 rue Forsyth, Pointe-Aux-Trembles / Montr...       911 ft² (84.63 m²)   \n",
       "3        711-680 rue de Courcelles, Le Sud-Ouest, QC       950 ft² (88.26 m²)   \n",
       "4      1-5230 rue Resther, Le Plateau-Mont-Royal, QC  106.4 m² (1 145.28 ft²)   \n",
       "\n",
       "     backyard  bathrooms  bedrooms     category  floor_if_condo  municipal  \\\n",
       "0        East        2.5       3.0  Condominium             1.0   394000.0   \n",
       "1        None        1.5       2.0  Condominium            10.0   316600.0   \n",
       "2  North-West        1.0       2.0  Condominium             3.0   207200.0   \n",
       "3       South        1.0       2.0  Condominium             7.0   339500.0   \n",
       "4        None        2.5       2.0  Condominium             1.0   350700.0   \n",
       "\n",
       "  postalcode   price  year  \n",
       "0    H2S 2H8  599000  1928  \n",
       "1    H1H 0A1  349000  2006  \n",
       "2    H1A 5R8  200000  1999  \n",
       "3    H4C 0B8  415000  2011  \n",
       "4    H2J 2W3  415000  2005  "
      ]
     },
     "execution_count": 6,
     "metadata": {},
     "output_type": "execute_result"
    }
   ],
   "source": [
    "subsets = ['price', 'address', 'category', 'year', 'bedrooms', 'bathrooms', 'areas', 'postalcode']\n",
    "df.dropna(subset=subsets, axis=0, inplace=True)\n",
    "df.drop(columns=['ownership', 'levels'], inplace=True)\n",
    "condo = df[df.category=='Condominium'].reset_index(drop=True)\n",
    "condo.head()"
   ]
  },
  {
   "cell_type": "code",
   "execution_count": 7,
   "metadata": {},
   "outputs": [
    {
     "name": "stdout",
     "output_type": "stream",
     "text": [
      "invalid backyard numbers:  231\n",
      "invalid municipal numbers:  241\n"
     ]
    }
   ],
   "source": [
    "print(\"invalid backyard numbers: \", condo.backyard.isna().sum())\n",
    "print(\"invalid municipal numbers: \", condo.municipal.isna().sum())"
   ]
  },
  {
   "cell_type": "markdown",
   "metadata": {},
   "source": [
    "There are a few things shall be done before city segmentation and price regression modeling:\n",
    "\n",
    "1. extract proper number of 'areas' from the string, (e.g., use $m^2$ as area unit);\n",
    "2. add neighbourhood information for each condo;\n",
    "3. use Foursquare to get venue information for each neighbourhood;\n",
    "4. drop category;\n",
    "5. drop backyard/municipal since nearly half of them are None."
   ]
  },
  {
   "cell_type": "code",
   "execution_count": 8,
   "metadata": {},
   "outputs": [],
   "source": [
    "condo.to_csv('condo_montreal.csv')"
   ]
  },
  {
   "cell_type": "markdown",
   "metadata": {},
   "source": [
    "To download the dataset, [click here](https://github.com/Alcander-Z/Coursera_Capstone/blob/master/MTL_Condominium.csv)"
   ]
  },
  {
   "cell_type": "markdown",
   "metadata": {},
   "source": [
    "### Methodology"
   ]
  },
  {
   "cell_type": "markdown",
   "metadata": {},
   "source": [
    "#### extract area in $m^2$"
   ]
  },
  {
   "cell_type": "code",
   "execution_count": 9,
   "metadata": {},
   "outputs": [],
   "source": [
    "import re\n",
    "def get_area(string):\n",
    "    \"\"\"\n",
    "    string format is either:\n",
    "        xxxx ft^2 (xxxx m^2)\n",
    "    or:\n",
    "        xxx m^2 (xxxx ft^2)\n",
    "    \"\"\"\n",
    "    unit = u'm\\u00B2'\n",
    "    pattern = '\\d*\\.?\\d+' + ' ' + unit\n",
    "    match = re.findall(pattern, string)\n",
    "    try:\n",
    "        return match[0].split()[0]\n",
    "    except:\n",
    "        return None"
   ]
  },
  {
   "cell_type": "code",
   "execution_count": 10,
   "metadata": {},
   "outputs": [
    {
     "data": {
      "text/html": [
       "<div>\n",
       "<style scoped>\n",
       "    .dataframe tbody tr th:only-of-type {\n",
       "        vertical-align: middle;\n",
       "    }\n",
       "\n",
       "    .dataframe tbody tr th {\n",
       "        vertical-align: top;\n",
       "    }\n",
       "\n",
       "    .dataframe thead th {\n",
       "        text-align: right;\n",
       "    }\n",
       "</style>\n",
       "<table border=\"1\" class=\"dataframe\">\n",
       "  <thead>\n",
       "    <tr style=\"text-align: right;\">\n",
       "      <th></th>\n",
       "      <th>address</th>\n",
       "      <th>areas</th>\n",
       "      <th>backyard</th>\n",
       "      <th>bathrooms</th>\n",
       "      <th>bedrooms</th>\n",
       "      <th>category</th>\n",
       "      <th>floor_if_condo</th>\n",
       "      <th>municipal</th>\n",
       "      <th>postalcode</th>\n",
       "      <th>price</th>\n",
       "      <th>year</th>\n",
       "    </tr>\n",
       "  </thead>\n",
       "  <tbody>\n",
       "    <tr>\n",
       "      <th>0</th>\n",
       "      <td>5985 Boyer, Rosemont / La Petite Patrie, QC</td>\n",
       "      <td>185.81</td>\n",
       "      <td>East</td>\n",
       "      <td>2.5</td>\n",
       "      <td>3.0</td>\n",
       "      <td>Condominium</td>\n",
       "      <td>1.0</td>\n",
       "      <td>394000.0</td>\n",
       "      <td>H2S 2H8</td>\n",
       "      <td>599000</td>\n",
       "      <td>1928</td>\n",
       "    </tr>\n",
       "    <tr>\n",
       "      <th>1</th>\n",
       "      <td>1008-3581 boulevard Gouin Est, Montréal-Nord, QC</td>\n",
       "      <td>102.19</td>\n",
       "      <td>None</td>\n",
       "      <td>1.5</td>\n",
       "      <td>2.0</td>\n",
       "      <td>Condominium</td>\n",
       "      <td>10.0</td>\n",
       "      <td>316600.0</td>\n",
       "      <td>H1H 0A1</td>\n",
       "      <td>349000</td>\n",
       "      <td>2006</td>\n",
       "    </tr>\n",
       "    <tr>\n",
       "      <th>2</th>\n",
       "      <td>16107 rue Forsyth, Pointe-Aux-Trembles / Montr...</td>\n",
       "      <td>84.63</td>\n",
       "      <td>North-West</td>\n",
       "      <td>1.0</td>\n",
       "      <td>2.0</td>\n",
       "      <td>Condominium</td>\n",
       "      <td>3.0</td>\n",
       "      <td>207200.0</td>\n",
       "      <td>H1A 5R8</td>\n",
       "      <td>200000</td>\n",
       "      <td>1999</td>\n",
       "    </tr>\n",
       "    <tr>\n",
       "      <th>3</th>\n",
       "      <td>711-680 rue de Courcelles, Le Sud-Ouest, QC</td>\n",
       "      <td>88.26</td>\n",
       "      <td>South</td>\n",
       "      <td>1.0</td>\n",
       "      <td>2.0</td>\n",
       "      <td>Condominium</td>\n",
       "      <td>7.0</td>\n",
       "      <td>339500.0</td>\n",
       "      <td>H4C 0B8</td>\n",
       "      <td>415000</td>\n",
       "      <td>2011</td>\n",
       "    </tr>\n",
       "    <tr>\n",
       "      <th>4</th>\n",
       "      <td>1-5230 rue Resther, Le Plateau-Mont-Royal, QC</td>\n",
       "      <td>106.4</td>\n",
       "      <td>None</td>\n",
       "      <td>2.5</td>\n",
       "      <td>2.0</td>\n",
       "      <td>Condominium</td>\n",
       "      <td>1.0</td>\n",
       "      <td>350700.0</td>\n",
       "      <td>H2J 2W3</td>\n",
       "      <td>415000</td>\n",
       "      <td>2005</td>\n",
       "    </tr>\n",
       "  </tbody>\n",
       "</table>\n",
       "</div>"
      ],
      "text/plain": [
       "                                             address   areas    backyard  \\\n",
       "0        5985 Boyer, Rosemont / La Petite Patrie, QC  185.81        East   \n",
       "1   1008-3581 boulevard Gouin Est, Montréal-Nord, QC  102.19        None   \n",
       "2  16107 rue Forsyth, Pointe-Aux-Trembles / Montr...   84.63  North-West   \n",
       "3        711-680 rue de Courcelles, Le Sud-Ouest, QC   88.26       South   \n",
       "4      1-5230 rue Resther, Le Plateau-Mont-Royal, QC   106.4        None   \n",
       "\n",
       "   bathrooms  bedrooms     category  floor_if_condo  municipal postalcode  \\\n",
       "0        2.5       3.0  Condominium             1.0   394000.0    H2S 2H8   \n",
       "1        1.5       2.0  Condominium            10.0   316600.0    H1H 0A1   \n",
       "2        1.0       2.0  Condominium             3.0   207200.0    H1A 5R8   \n",
       "3        1.0       2.0  Condominium             7.0   339500.0    H4C 0B8   \n",
       "4        2.5       2.0  Condominium             1.0   350700.0    H2J 2W3   \n",
       "\n",
       "    price  year  \n",
       "0  599000  1928  \n",
       "1  349000  2006  \n",
       "2  200000  1999  \n",
       "3  415000  2011  \n",
       "4  415000  2005  "
      ]
     },
     "execution_count": 10,
     "metadata": {},
     "output_type": "execute_result"
    }
   ],
   "source": [
    "area = list(map(get_area, condo.areas))\n",
    "condo.areas = area\n",
    "condo.dropna(axis=0, subset=['areas'], inplace=True)\n",
    "condo.areas.astype('float')\n",
    "condo.head()"
   ]
  },
  {
   "cell_type": "markdown",
   "metadata": {},
   "source": [
    "#### drop category, backyard, municipal, floor_if_condo"
   ]
  },
  {
   "cell_type": "code",
   "execution_count": 11,
   "metadata": {},
   "outputs": [],
   "source": [
    "condo.drop(columns=['backyard', 'category', 'floor_if_condo', 'municipal'], inplace=True)"
   ]
  },
  {
   "cell_type": "markdown",
   "metadata": {},
   "source": [
    "#### neighbourhood is defined by the first 3 postalcode\n",
    "\n",
    "postal code - borough map is crawled from [Wikipedia](https://en.wikipedia.org/wiki/List_of_postal_codes_of_Canada:_H). It is stored in a json file, with key of first 3 postalcode and value of neighbourhood name (e.g., \"H1A\": \"Pointe-aux-Trembles\")"
   ]
  },
  {
   "cell_type": "code",
   "execution_count": 12,
   "metadata": {},
   "outputs": [],
   "source": [
    "with open(r'mtl_postalcode.json', 'r') as f:\n",
    "    borough = json.load(f)"
   ]
  },
  {
   "cell_type": "code",
   "execution_count": 13,
   "metadata": {},
   "outputs": [],
   "source": [
    "def get_borough(postal):\n",
    "    postal = postal.strip()\n",
    "    key = postal[:3]\n",
    "    return borough.get(key, None)"
   ]
  },
  {
   "cell_type": "code",
   "execution_count": 16,
   "metadata": {},
   "outputs": [],
   "source": [
    "condo['borough'] = list(map(get_borough, condo.postalcode))"
   ]
  },
  {
   "cell_type": "code",
   "execution_count": 17,
   "metadata": {},
   "outputs": [
    {
     "data": {
      "text/html": [
       "<div>\n",
       "<style scoped>\n",
       "    .dataframe tbody tr th:only-of-type {\n",
       "        vertical-align: middle;\n",
       "    }\n",
       "\n",
       "    .dataframe tbody tr th {\n",
       "        vertical-align: top;\n",
       "    }\n",
       "\n",
       "    .dataframe thead th {\n",
       "        text-align: right;\n",
       "    }\n",
       "</style>\n",
       "<table border=\"1\" class=\"dataframe\">\n",
       "  <thead>\n",
       "    <tr style=\"text-align: right;\">\n",
       "      <th></th>\n",
       "      <th>address</th>\n",
       "      <th>areas</th>\n",
       "      <th>bathrooms</th>\n",
       "      <th>bedrooms</th>\n",
       "      <th>postalcode</th>\n",
       "      <th>price</th>\n",
       "      <th>year</th>\n",
       "      <th>borough</th>\n",
       "    </tr>\n",
       "  </thead>\n",
       "  <tbody>\n",
       "    <tr>\n",
       "      <th>0</th>\n",
       "      <td>5985 Boyer, Rosemont / La Petite Patrie, QC</td>\n",
       "      <td>185.81</td>\n",
       "      <td>2.5</td>\n",
       "      <td>3.0</td>\n",
       "      <td>H2S 2H8</td>\n",
       "      <td>599000</td>\n",
       "      <td>1928</td>\n",
       "      <td>Petite-Patrie</td>\n",
       "    </tr>\n",
       "    <tr>\n",
       "      <th>1</th>\n",
       "      <td>1008-3581 boulevard Gouin Est, Montréal-Nord, QC</td>\n",
       "      <td>102.19</td>\n",
       "      <td>1.5</td>\n",
       "      <td>2.0</td>\n",
       "      <td>H1H 0A1</td>\n",
       "      <td>349000</td>\n",
       "      <td>2006</td>\n",
       "      <td>Montréal-Nord</td>\n",
       "    </tr>\n",
       "    <tr>\n",
       "      <th>2</th>\n",
       "      <td>16107 rue Forsyth, Pointe-Aux-Trembles / Montr...</td>\n",
       "      <td>84.63</td>\n",
       "      <td>1.0</td>\n",
       "      <td>2.0</td>\n",
       "      <td>H1A 5R8</td>\n",
       "      <td>200000</td>\n",
       "      <td>1999</td>\n",
       "      <td>Pointe-aux-Trembles</td>\n",
       "    </tr>\n",
       "    <tr>\n",
       "      <th>3</th>\n",
       "      <td>711-680 rue de Courcelles, Le Sud-Ouest, QC</td>\n",
       "      <td>88.26</td>\n",
       "      <td>1.0</td>\n",
       "      <td>2.0</td>\n",
       "      <td>H4C 0B8</td>\n",
       "      <td>415000</td>\n",
       "      <td>2011</td>\n",
       "      <td>Saint-Henri</td>\n",
       "    </tr>\n",
       "    <tr>\n",
       "      <th>4</th>\n",
       "      <td>1-5230 rue Resther, Le Plateau-Mont-Royal, QC</td>\n",
       "      <td>106.4</td>\n",
       "      <td>2.5</td>\n",
       "      <td>2.0</td>\n",
       "      <td>H2J 2W3</td>\n",
       "      <td>415000</td>\n",
       "      <td>2005</td>\n",
       "      <td>Plateau Mont-Royal</td>\n",
       "    </tr>\n",
       "  </tbody>\n",
       "</table>\n",
       "</div>"
      ],
      "text/plain": [
       "                                             address   areas  bathrooms  \\\n",
       "0        5985 Boyer, Rosemont / La Petite Patrie, QC  185.81        2.5   \n",
       "1   1008-3581 boulevard Gouin Est, Montréal-Nord, QC  102.19        1.5   \n",
       "2  16107 rue Forsyth, Pointe-Aux-Trembles / Montr...   84.63        1.0   \n",
       "3        711-680 rue de Courcelles, Le Sud-Ouest, QC   88.26        1.0   \n",
       "4      1-5230 rue Resther, Le Plateau-Mont-Royal, QC   106.4        2.5   \n",
       "\n",
       "   bedrooms postalcode   price  year              borough  \n",
       "0       3.0    H2S 2H8  599000  1928        Petite-Patrie  \n",
       "1       2.0    H1H 0A1  349000  2006        Montréal-Nord  \n",
       "2       2.0    H1A 5R8  200000  1999  Pointe-aux-Trembles  \n",
       "3       2.0    H4C 0B8  415000  2011          Saint-Henri  \n",
       "4       2.0    H2J 2W3  415000  2005   Plateau Mont-Royal  "
      ]
     },
     "execution_count": 17,
     "metadata": {},
     "output_type": "execute_result"
    }
   ],
   "source": [
    "condo.dropna(axis=0, subset=['borough'], inplace=True)\n",
    "condo.reset_index(drop=True, inplace=True)\n",
    "condo.head()"
   ]
  },
  {
   "cell_type": "markdown",
   "metadata": {},
   "source": [
    "Let's simply review some aggregated info by borough"
   ]
  },
  {
   "cell_type": "code",
   "execution_count": 31,
   "metadata": {},
   "outputs": [
    {
     "data": {
      "text/html": [
       "<div>\n",
       "<style scoped>\n",
       "    .dataframe tbody tr th:only-of-type {\n",
       "        vertical-align: middle;\n",
       "    }\n",
       "\n",
       "    .dataframe tbody tr th {\n",
       "        vertical-align: top;\n",
       "    }\n",
       "\n",
       "    .dataframe thead th {\n",
       "        text-align: right;\n",
       "    }\n",
       "</style>\n",
       "<table border=\"1\" class=\"dataframe\">\n",
       "  <thead>\n",
       "    <tr style=\"text-align: right;\">\n",
       "      <th></th>\n",
       "      <th>address</th>\n",
       "      <th>areas</th>\n",
       "      <th>bathrooms</th>\n",
       "      <th>bedrooms</th>\n",
       "      <th>postalcode</th>\n",
       "      <th>price</th>\n",
       "      <th>year</th>\n",
       "      <th>borough</th>\n",
       "    </tr>\n",
       "  </thead>\n",
       "  <tbody>\n",
       "    <tr>\n",
       "      <th>0</th>\n",
       "      <td>5985 Boyer, Rosemont / La Petite Patrie, QC</td>\n",
       "      <td>185.81</td>\n",
       "      <td>2.5</td>\n",
       "      <td>3.0</td>\n",
       "      <td>H2S 2H8</td>\n",
       "      <td>599000</td>\n",
       "      <td>1928</td>\n",
       "      <td>Petite-Patrie</td>\n",
       "    </tr>\n",
       "    <tr>\n",
       "      <th>1</th>\n",
       "      <td>1008-3581 boulevard Gouin Est, Montréal-Nord, QC</td>\n",
       "      <td>102.19</td>\n",
       "      <td>1.5</td>\n",
       "      <td>2.0</td>\n",
       "      <td>H1H 0A1</td>\n",
       "      <td>349000</td>\n",
       "      <td>2006</td>\n",
       "      <td>Montréal-Nord</td>\n",
       "    </tr>\n",
       "    <tr>\n",
       "      <th>2</th>\n",
       "      <td>16107 rue Forsyth, Pointe-Aux-Trembles / Montr...</td>\n",
       "      <td>84.63</td>\n",
       "      <td>1.0</td>\n",
       "      <td>2.0</td>\n",
       "      <td>H1A 5R8</td>\n",
       "      <td>200000</td>\n",
       "      <td>1999</td>\n",
       "      <td>Pointe-aux-Trembles</td>\n",
       "    </tr>\n",
       "    <tr>\n",
       "      <th>3</th>\n",
       "      <td>711-680 rue de Courcelles, Le Sud-Ouest, QC</td>\n",
       "      <td>88.26</td>\n",
       "      <td>1.0</td>\n",
       "      <td>2.0</td>\n",
       "      <td>H4C 0B8</td>\n",
       "      <td>415000</td>\n",
       "      <td>2011</td>\n",
       "      <td>Saint-Henri</td>\n",
       "    </tr>\n",
       "    <tr>\n",
       "      <th>4</th>\n",
       "      <td>1-5230 rue Resther, Le Plateau-Mont-Royal, QC</td>\n",
       "      <td>106.4</td>\n",
       "      <td>2.5</td>\n",
       "      <td>2.0</td>\n",
       "      <td>H2J 2W3</td>\n",
       "      <td>415000</td>\n",
       "      <td>2005</td>\n",
       "      <td>Plateau Mont-Royal</td>\n",
       "    </tr>\n",
       "  </tbody>\n",
       "</table>\n",
       "</div>"
      ],
      "text/plain": [
       "                                             address   areas  bathrooms  \\\n",
       "0        5985 Boyer, Rosemont / La Petite Patrie, QC  185.81        2.5   \n",
       "1   1008-3581 boulevard Gouin Est, Montréal-Nord, QC  102.19        1.5   \n",
       "2  16107 rue Forsyth, Pointe-Aux-Trembles / Montr...   84.63        1.0   \n",
       "3        711-680 rue de Courcelles, Le Sud-Ouest, QC   88.26        1.0   \n",
       "4      1-5230 rue Resther, Le Plateau-Mont-Royal, QC   106.4        2.5   \n",
       "\n",
       "   bedrooms postalcode   price  year              borough  \n",
       "0       3.0    H2S 2H8  599000  1928        Petite-Patrie  \n",
       "1       2.0    H1H 0A1  349000  2006        Montréal-Nord  \n",
       "2       2.0    H1A 5R8  200000  1999  Pointe-aux-Trembles  \n",
       "3       2.0    H4C 0B8  415000  2011          Saint-Henri  \n",
       "4       2.0    H2J 2W3  415000  2005   Plateau Mont-Royal  "
      ]
     },
     "execution_count": 31,
     "metadata": {},
     "output_type": "execute_result"
    }
   ],
   "source": [
    "condo.head()"
   ]
  },
  {
   "cell_type": "code",
   "execution_count": 28,
   "metadata": {},
   "outputs": [],
   "source": [
    "import matplotlib.pyplot as plt\n",
    "%matplotlib inline"
   ]
  },
  {
   "cell_type": "code",
   "execution_count": 42,
   "metadata": {},
   "outputs": [
    {
     "data": {
      "image/png": "[encoded data removed]",
      "text/plain": [
       "<Figure size 1440x720 with 1 Axes>"
      ]
     },
     "metadata": {
      "needs_background": "light"
     },
     "output_type": "display_data"
    }
   ],
   "source": [
    "condo_borough_count = condo[['address', 'borough']].groupby('borough').count().sort_values(by='address', ascending=False).rename({'address':'count'},axis='columns')\n",
    "fig, ax = plt.subplots(1,1, figsize=(20,10))\n",
    "condo_borough_count.plot.bar(ax=ax)\n",
    "ax.set_title('number of selling condominiums in each borough', fontsize=18)\n",
    "plt.show()"
   ]
  },
  {
   "cell_type": "code",
   "execution_count": 47,
   "metadata": {},
   "outputs": [
    {
     "data": {
      "image/png": "[encoded data removed]",
      "text/plain": [
       "<Figure size 1440x720 with 1 Axes>"
      ]
     },
     "metadata": {
      "needs_background": "light"
     },
     "output_type": "display_data"
    }
   ],
   "source": [
    "condo.price = condo.price.astype('float')\n",
    "condo_borough_price = condo[['price', 'borough']].groupby('borough').mean().sort_values(by='price', ascending=False)\n",
    "fig, ax = plt.subplots(1,1, figsize=(20,10))\n",
    "condo_borough_price.plot.bar(ax=ax)\n",
    "ax.set_title('mean sale price of condominium in each borough', fontsize=18)\n",
    "plt.show()"
   ]
  },
  {
   "cell_type": "code",
   "execution_count": 53,
   "metadata": {},
   "outputs": [
    {
     "data": {
      "image/png": "[encoded data removed]",
      "text/plain": [
       "<Figure size 1440x720 with 1 Axes>"
      ]
     },
     "metadata": {
      "needs_background": "light"
     },
     "output_type": "display_data"
    }
   ],
   "source": [
    "condo.areas = condo.areas.astype('float')\n",
    "condo_borough_area = condo[['areas', 'borough']].groupby('borough').mean().sort_values(by='areas', ascending=False)\n",
    "condo_borough_price_area = condo_borough_area.merge(condo_borough_price, how='inner', left_index=True, right_index=True)\n",
    "condo_borough_price_area['unit_price'] = condo_borough_price_area['price'] / condo_borough_price_area['areas']\n",
    "condo_borough_price_area.sort_values(by='unit_price', ascending=False, inplace=True)\n",
    "fig, ax = plt.subplots(1,1, figsize=(20,10))\n",
    "condo_borough_price_area.plot.bar(y='unit_price', ax=ax)\n",
    "ax.set_title('mean area of condominium in each borough', fontsize=18)\n",
    "plt.show()"
   ]
  },
  {
   "cell_type": "markdown",
   "metadata": {},
   "source": [
    "Montreal has 123 neighbourhoods in total and 43 of them have condos for sale; __Plateau Mont-Royal__, __Centre-Sud__, and __Rosemont__ are top three neighbourhoods in the number of condos for sale; though __Westmount__ has only two selling condos, their average sale price is much higher than the price of condos in other neighbourhoods; __Downtown Montreal__ has the most expensive condo for sale in terms of average price per square meter."
   ]
  },
  {
   "cell_type": "markdown",
   "metadata": {},
   "source": [
    "#### Google Geolocation API for lat/lng of each condo"
   ]
  },
  {
   "cell_type": "code",
   "execution_count": 56,
   "metadata": {},
   "outputs": [],
   "source": [
    "import googlemaps\n",
    "import googlemaps_secret\n",
    "import os\n",
    "\n",
    "API_KEY = os.getenv('GOOGLE_API')\n",
    "GMAPS = googlemaps.Client(key=API_KEY)\n",
    "\n",
    "def addr2ll(address):\n",
    "    result = GMAPS.geocode(address)\n",
    "    if result:\n",
    "        return result[0]['geometry']['location']\n",
    "    else:\n",
    "        return None"
   ]
  },
  {
   "cell_type": "markdown",
   "metadata": {},
   "source": [
    "Test the function addr2ll() before batching processing"
   ]
  },
  {
   "cell_type": "code",
   "execution_count": 57,
   "metadata": {},
   "outputs": [
    {
     "data": {
      "text/plain": [
       "{'lat': 45.5354462, 'lng': -73.5981753}"
      ]
     },
     "execution_count": 57,
     "metadata": {},
     "output_type": "execute_result"
    }
   ],
   "source": [
    "addr2ll(condo.loc[0, 'address'])"
   ]
  },
  {
   "cell_type": "code",
   "execution_count": 72,
   "metadata": {},
   "outputs": [],
   "source": [
    "from time import sleep\n",
    "\n",
    "lat = []\n",
    "lng = []\n",
    "for i in range(condo.index.size):\n",
    "    latlng = addr2ll(condo.loc[i, 'address'])\n",
    "    if latlng:\n",
    "        lat.append(latlng['lat'])\n",
    "        lng.append(latlng['lng'])\n",
    "    else:\n",
    "        lat.append(None)\n",
    "        lng.append(None)\n",
    "    sleep(0.1)"
   ]
  },
  {
   "cell_type": "code",
   "execution_count": 73,
   "metadata": {},
   "outputs": [
    {
     "data": {
      "text/html": [
       "<div>\n",
       "<style scoped>\n",
       "    .dataframe tbody tr th:only-of-type {\n",
       "        vertical-align: middle;\n",
       "    }\n",
       "\n",
       "    .dataframe tbody tr th {\n",
       "        vertical-align: top;\n",
       "    }\n",
       "\n",
       "    .dataframe thead th {\n",
       "        text-align: right;\n",
       "    }\n",
       "</style>\n",
       "<table border=\"1\" class=\"dataframe\">\n",
       "  <thead>\n",
       "    <tr style=\"text-align: right;\">\n",
       "      <th></th>\n",
       "      <th>address</th>\n",
       "      <th>areas</th>\n",
       "      <th>bathrooms</th>\n",
       "      <th>bedrooms</th>\n",
       "      <th>postalcode</th>\n",
       "      <th>price</th>\n",
       "      <th>year</th>\n",
       "      <th>borough</th>\n",
       "      <th>lat</th>\n",
       "      <th>lng</th>\n",
       "    </tr>\n",
       "  </thead>\n",
       "  <tbody>\n",
       "    <tr>\n",
       "      <th>0</th>\n",
       "      <td>5985 Boyer, Rosemont / La Petite Patrie, QC</td>\n",
       "      <td>185.81</td>\n",
       "      <td>2.5</td>\n",
       "      <td>3.0</td>\n",
       "      <td>H2S 2H8</td>\n",
       "      <td>599000.0</td>\n",
       "      <td>1928</td>\n",
       "      <td>Petite-Patrie</td>\n",
       "      <td>45.535446</td>\n",
       "      <td>-73.598175</td>\n",
       "    </tr>\n",
       "    <tr>\n",
       "      <th>1</th>\n",
       "      <td>1008-3581 boulevard Gouin Est, Montréal-Nord, QC</td>\n",
       "      <td>102.19</td>\n",
       "      <td>1.5</td>\n",
       "      <td>2.0</td>\n",
       "      <td>H1H 0A1</td>\n",
       "      <td>349000.0</td>\n",
       "      <td>2006</td>\n",
       "      <td>Montréal-Nord</td>\n",
       "      <td>45.591632</td>\n",
       "      <td>-73.650183</td>\n",
       "    </tr>\n",
       "    <tr>\n",
       "      <th>2</th>\n",
       "      <td>16107 rue Forsyth, Pointe-Aux-Trembles / Montr...</td>\n",
       "      <td>84.63</td>\n",
       "      <td>1.0</td>\n",
       "      <td>2.0</td>\n",
       "      <td>H1A 5R8</td>\n",
       "      <td>200000.0</td>\n",
       "      <td>1999</td>\n",
       "      <td>Pointe-aux-Trembles</td>\n",
       "      <td>45.675129</td>\n",
       "      <td>-73.501151</td>\n",
       "    </tr>\n",
       "    <tr>\n",
       "      <th>3</th>\n",
       "      <td>711-680 rue de Courcelles, Le Sud-Ouest, QC</td>\n",
       "      <td>88.26</td>\n",
       "      <td>1.0</td>\n",
       "      <td>2.0</td>\n",
       "      <td>H4C 0B8</td>\n",
       "      <td>415000.0</td>\n",
       "      <td>2011</td>\n",
       "      <td>Saint-Henri</td>\n",
       "      <td>45.475026</td>\n",
       "      <td>-73.593663</td>\n",
       "    </tr>\n",
       "    <tr>\n",
       "      <th>4</th>\n",
       "      <td>1-5230 rue Resther, Le Plateau-Mont-Royal, QC</td>\n",
       "      <td>106.40</td>\n",
       "      <td>2.5</td>\n",
       "      <td>2.0</td>\n",
       "      <td>H2J 2W3</td>\n",
       "      <td>415000.0</td>\n",
       "      <td>2005</td>\n",
       "      <td>Plateau Mont-Royal</td>\n",
       "      <td>45.529412</td>\n",
       "      <td>-73.590276</td>\n",
       "    </tr>\n",
       "  </tbody>\n",
       "</table>\n",
       "</div>"
      ],
      "text/plain": [
       "                                             address   areas  bathrooms  \\\n",
       "0        5985 Boyer, Rosemont / La Petite Patrie, QC  185.81        2.5   \n",
       "1   1008-3581 boulevard Gouin Est, Montréal-Nord, QC  102.19        1.5   \n",
       "2  16107 rue Forsyth, Pointe-Aux-Trembles / Montr...   84.63        1.0   \n",
       "3        711-680 rue de Courcelles, Le Sud-Ouest, QC   88.26        1.0   \n",
       "4      1-5230 rue Resther, Le Plateau-Mont-Royal, QC  106.40        2.5   \n",
       "\n",
       "   bedrooms postalcode     price  year              borough        lat  \\\n",
       "0       3.0    H2S 2H8  599000.0  1928        Petite-Patrie  45.535446   \n",
       "1       2.0    H1H 0A1  349000.0  2006        Montréal-Nord  45.591632   \n",
       "2       2.0    H1A 5R8  200000.0  1999  Pointe-aux-Trembles  45.675129   \n",
       "3       2.0    H4C 0B8  415000.0  2011          Saint-Henri  45.475026   \n",
       "4       2.0    H2J 2W3  415000.0  2005   Plateau Mont-Royal  45.529412   \n",
       "\n",
       "         lng  \n",
       "0 -73.598175  \n",
       "1 -73.650183  \n",
       "2 -73.501151  \n",
       "3 -73.593663  \n",
       "4 -73.590276  "
      ]
     },
     "execution_count": 73,
     "metadata": {},
     "output_type": "execute_result"
    }
   ],
   "source": [
    "condo['lat'] = lat\n",
    "condo['lng'] = lng\n",
    "condo.dropna(axis=0, subset=['lat', 'lng'], inplace=True)\n",
    "condo.reset_index(drop=True, inplace=True)\n",
    "condo.head()"
   ]
  },
  {
   "cell_type": "markdown",
   "metadata": {},
   "source": [
    "Now we are able to see those condos on a map. Let's take a look. "
   ]
  },
  {
   "cell_type": "code",
   "execution_count": 76,
   "metadata": {},
   "outputs": [],
   "source": [
    "import folium\n",
    "import numpy as np\n",
    "from IPython.display import IFrame"
   ]
  },
  {
   "cell_type": "code",
   "execution_count": 93,
   "metadata": {},
   "outputs": [],
   "source": [
    "map_mtl = folium.Map(location=[45.5498, -73.6708], zoom_start=11)\n",
    "\n",
    "for lat, lng, prc in zip(condo['lat'], condo['lng'], condo['price']):\n",
    "    label = \"${}\".format(prc)\n",
    "    abel = folium.Popup(label, parse_html=True)\n",
    "    folium.CircleMarker(\n",
    "        [lat, lng],\n",
    "        radius=5,\n",
    "        popup=label,\n",
    "        color='blue',\n",
    "        fill=True,\n",
    "        fill_color='#3186cc',\n",
    "        fill_opacity=0.7,\n",
    "        parse_html=False).add_to(map_mtl)\n",
    "    \n",
    "map_mtl.save('mtl_condo.html')"
   ]
  },
  {
   "cell_type": "code",
   "execution_count": 95,
   "metadata": {},
   "outputs": [
    {
     "data": {
      "text/html": [
       "\n",
       "        <iframe\n",
       "            width=\"800\"\n",
       "            height=\"600\"\n",
       "            src=\"./mtl_condo.html\"\n",
       "            frameborder=\"0\"\n",
       "            allowfullscreen\n",
       "        ></iframe>\n",
       "        "
      ],
      "text/plain": [
       "<IPython.lib.display.IFrame at 0x11996a5f8>"
      ]
     },
     "execution_count": 95,
     "metadata": {},
     "output_type": "execute_result"
    }
   ],
   "source": [
    "IFrame(src='./mtl_condo.html', width=800, height=600)"
   ]
  },
  {
   "cell_type": "code",
   "execution_count": null,
   "metadata": {},
   "outputs": [],
   "source": []
  }
 ],
 "metadata": {
  "kernelspec": {
   "display_name": "Python 3",
   "language": "python",
   "name": "python3"
  },
  "language_info": {
   "codemirror_mode": {
    "name": "ipython",
    "version": 3
   },
   "file_extension": ".py",
   "mimetype": "text/x-python",
   "name": "python",
   "nbconvert_exporter": "python",
   "pygments_lexer": "ipython3",
   "version": "3.6.4"
  }
 },
 "nbformat": 4,
 "nbformat_minor": 2
}
