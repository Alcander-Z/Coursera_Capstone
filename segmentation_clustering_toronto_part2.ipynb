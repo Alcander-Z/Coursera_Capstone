{
 "cells": [
  {
   "cell_type": "markdown",
   "metadata": {},
   "source": [
    "# Applied Data Science Capstone, Week 2 Assignment - Part 2"
   ]
  },
  {
   "cell_type": "markdown",
   "metadata": {},
   "source": [
    "## scrape Wikipedia to get neighborhood informantion of Toronto\n",
    "\n",
    "[List of neighborhood of Toronto](https://en.wikipedia.org/wiki/List_of_postal_codes_of_Canada:_M)"
   ]
  },
  {
   "cell_type": "code",
   "execution_count": 1,
   "metadata": {},
   "outputs": [],
   "source": [
    "# find the table with BeautifulSoup. \n",
    "\n",
    "from bs4 import BeautifulSoup\n",
    "import pandas as pd\n",
    "import requests\n",
    "\n",
    "scrape_url = 'https://en.wikipedia.org/wiki/List_of_postal_codes_of_Canada:_M'\n",
    "html = requests.get(scrape_url)\n",
    "soup = BeautifulSoup(html.content, 'html5lib')\n",
    "tables = soup.findAll('table', {'class': 'wikitable'})[0]"
   ]
  },
  {
   "cell_type": "code",
   "execution_count": 2,
   "metadata": {},
   "outputs": [],
   "source": [
    "# extract headers\n",
    "\n",
    "header = []\n",
    "for item in tables.find('tr').findAll('th'):\n",
    "    header.append(item.text.strip())\n",
    "\n",
    "# extract rows\n",
    "\n",
    "tbl = []\n",
    "for row in tables.findAll('tr'):\n",
    "    r = []\n",
    "    items = row.findAll('td')\n",
    "    for item in items:\n",
    "        r.append(item.text.strip())\n",
    "    tbl.append(r)"
   ]
  },
  {
   "cell_type": "code",
   "execution_count": 3,
   "metadata": {},
   "outputs": [],
   "source": [
    "# load table as pd.DataFrame\n",
    "\n",
    "neighborhood = pd.DataFrame(data=tbl, columns=header)"
   ]
  },
  {
   "cell_type": "code",
   "execution_count": 4,
   "metadata": {},
   "outputs": [],
   "source": [
    "# clean data\n",
    "\n",
    "# Borough Not assigned = pd.NaT\n",
    "neighborhood.replace(to_replace={'Borough':'Not assigned'}, value={'Borough': pd.NaT}, inplace=True)\n",
    "neighborhood.dropna(axis=0, inplace=True)\n",
    "\n",
    "# Neighbourhood Not assigned = Borough\n",
    "condition = neighborhood['Neighbourhood'] == 'Not assigned'\n",
    "neighborhood.loc[condition, 'Neighbourhood'] = neighborhood.loc[condition, 'Borough']"
   ]
  },
  {
   "cell_type": "code",
   "execution_count": 5,
   "metadata": {},
   "outputs": [],
   "source": [
    "# merge neighbourhood if Postcode is the same.\n",
    "\n",
    "def mergePostcode(x):\n",
    "    return pd.Series(\n",
    "        dict(Borough = x['Borough'].value_counts().index[0], \n",
    "             Neighbourhood = \"%s\" % ', '.join(x['Neighbourhood']))\n",
    "    )\n",
    "\n",
    "df = neighborhood.groupby('Postcode').apply(mergePostcode)\n",
    "df.reset_index(inplace=True)"
   ]
  },
  {
   "cell_type": "markdown",
   "metadata": {},
   "source": [
    "__df__ stores the cleaned information about neighbourhood of Toronto."
   ]
  },
  {
   "cell_type": "code",
   "execution_count": 6,
   "metadata": {},
   "outputs": [
    {
     "data": {
      "text/plain": [
       "(103, 3)"
      ]
     },
     "execution_count": 6,
     "metadata": {},
     "output_type": "execute_result"
    }
   ],
   "source": [
    "df.shape"
   ]
  },
  {
   "cell_type": "markdown",
   "metadata": {},
   "source": [
    "## get latitude/longitude from Postcode and save to df"
   ]
  },
  {
   "cell_type": "code",
   "execution_count": 7,
   "metadata": {},
   "outputs": [],
   "source": [
    "import googlemaps\n",
    "import googlemaps_secret\n",
    "import os\n",
    "\n",
    "API_KEY = os.getenv('GOOGLE_API')\n",
    "GMAPS = googlemaps.Client(key=API_KEY)\n",
    "\n",
    "def addr2ll(address):\n",
    "    result = GMAPS.geocode(address)\n",
    "    if result:\n",
    "        return result[0]['geometry']['location']\n",
    "    else:\n",
    "        return None"
   ]
  },
  {
   "cell_type": "code",
   "execution_count": 8,
   "metadata": {},
   "outputs": [
    {
     "data": {
      "text/html": [
       "<div>\n",
       "<style scoped>\n",
       "    .dataframe tbody tr th:only-of-type {\n",
       "        vertical-align: middle;\n",
       "    }\n",
       "\n",
       "    .dataframe tbody tr th {\n",
       "        vertical-align: top;\n",
       "    }\n",
       "\n",
       "    .dataframe thead th {\n",
       "        text-align: right;\n",
       "    }\n",
       "</style>\n",
       "<table border=\"1\" class=\"dataframe\">\n",
       "  <thead>\n",
       "    <tr style=\"text-align: right;\">\n",
       "      <th></th>\n",
       "      <th>Postcode</th>\n",
       "      <th>Borough</th>\n",
       "      <th>Neighbourhood</th>\n",
       "    </tr>\n",
       "  </thead>\n",
       "  <tbody>\n",
       "    <tr>\n",
       "      <th>0</th>\n",
       "      <td>M1B</td>\n",
       "      <td>Scarborough</td>\n",
       "      <td>Rouge, Malvern</td>\n",
       "    </tr>\n",
       "    <tr>\n",
       "      <th>1</th>\n",
       "      <td>M1C</td>\n",
       "      <td>Scarborough</td>\n",
       "      <td>Highland Creek, Rouge Hill, Port Union</td>\n",
       "    </tr>\n",
       "    <tr>\n",
       "      <th>2</th>\n",
       "      <td>M1E</td>\n",
       "      <td>Scarborough</td>\n",
       "      <td>Guildwood, Morningside, West Hill</td>\n",
       "    </tr>\n",
       "    <tr>\n",
       "      <th>3</th>\n",
       "      <td>M1G</td>\n",
       "      <td>Scarborough</td>\n",
       "      <td>Woburn</td>\n",
       "    </tr>\n",
       "    <tr>\n",
       "      <th>4</th>\n",
       "      <td>M1H</td>\n",
       "      <td>Scarborough</td>\n",
       "      <td>Cedarbrae</td>\n",
       "    </tr>\n",
       "  </tbody>\n",
       "</table>\n",
       "</div>"
      ],
      "text/plain": [
       "  Postcode      Borough                           Neighbourhood\n",
       "0      M1B  Scarborough                          Rouge, Malvern\n",
       "1      M1C  Scarborough  Highland Creek, Rouge Hill, Port Union\n",
       "2      M1E  Scarborough       Guildwood, Morningside, West Hill\n",
       "3      M1G  Scarborough                                  Woburn\n",
       "4      M1H  Scarborough                               Cedarbrae"
      ]
     },
     "execution_count": 8,
     "metadata": {},
     "output_type": "execute_result"
    }
   ],
   "source": [
    "df.head()"
   ]
  },
  {
   "cell_type": "code",
   "execution_count": 10,
   "metadata": {},
   "outputs": [
    {
     "data": {
      "text/plain": [
       "[43.8066863,\n",
       " 43.78453510000001,\n",
       " 43.7635726,\n",
       " 43.7709921,\n",
       " 43.773136,\n",
       " 43.7447342,\n",
       " 43.7279292,\n",
       " 43.7111117,\n",
       " 43.716316,\n",
       " 43.692657,\n",
       " 43.7574096,\n",
       " 43.7500715,\n",
       " 43.7942003,\n",
       " 43.7816375,\n",
       " 43.8152522,\n",
       " 43.7995252,\n",
       " 43.8361247,\n",
       " 43.8037622,\n",
       " 43.7785175,\n",
       " 43.7869473,\n",
       " 43.7574902,\n",
       " 43.789053,\n",
       " 43.7701199,\n",
       " 43.7527583,\n",
       " 43.7827364,\n",
       " 43.7532586,\n",
       " 43.7459058,\n",
       " 43.7258997,\n",
       " 43.7543283,\n",
       " 43.7679803,\n",
       " 43.7374732,\n",
       " 43.7390146,\n",
       " 43.7284964,\n",
       " 43.7616313,\n",
       " 43.72588229999999,\n",
       " 43.7063972,\n",
       " 43.6953439,\n",
       " 43.6763574,\n",
       " 43.7090604,\n",
       " 43.7053689,\n",
       " 43.685347,\n",
       " 43.6795571,\n",
       " 43.6689985,\n",
       " 43.6595255,\n",
       " 43.7280205,\n",
       " 43.7127511,\n",
       " 43.7153834,\n",
       " 43.7043244,\n",
       " 43.6895743,\n",
       " 43.6864123,\n",
       " 43.6795626,\n",
       " 43.667967,\n",
       " 43.6658599,\n",
       " 43.6542599,\n",
       " 43.6571618,\n",
       " 43.6514939,\n",
       " 43.6447708,\n",
       " 43.6579524,\n",
       " 43.65057119999999,\n",
       " 43.6408157,\n",
       " 43.6471768,\n",
       " 43.6481985,\n",
       " 43.7332825,\n",
       " 43.7116948,\n",
       " 43.6969476,\n",
       " 43.6727097,\n",
       " 43.6626956,\n",
       " 43.6532057,\n",
       " 43.6289467,\n",
       " 43.6464352,\n",
       " 43.6484292,\n",
       " 43.718518,\n",
       " 43.709577,\n",
       " 43.6937813,\n",
       " 43.68902560000001,\n",
       " 43.669542,\n",
       " 43.6690051,\n",
       " 43.6479267,\n",
       " 43.6368472,\n",
       " 43.7137562,\n",
       " 43.6911158,\n",
       " 43.6731853,\n",
       " 43.6616083,\n",
       " 43.6489597,\n",
       " 43.6515706,\n",
       " 43.6623015,\n",
       " 43.6369656,\n",
       " 43.6627439,\n",
       " 43.6056466,\n",
       " 43.6024137,\n",
       " 43.6536536,\n",
       " 43.6362579,\n",
       " 43.6288408,\n",
       " 43.6678556,\n",
       " 43.65094320000001,\n",
       " 43.6435152,\n",
       " 43.7563033,\n",
       " 43.7247659,\n",
       " 43.706876,\n",
       " 43.696319,\n",
       " 43.6889054,\n",
       " 43.7394164,\n",
       " 43.7067483]"
      ]
     },
     "execution_count": 10,
     "metadata": {},
     "output_type": "execute_result"
    }
   ],
   "source": [
    "from time import sleep\n",
    "\n",
    "lat = []\n",
    "lng = []\n",
    "for i in range(df.index.size):\n",
    "    addr = '{}, Toronto, Ontario'.format(df.loc[i, 'Postcode'])\n",
    "    latlng = addr2ll(addr)\n",
    "    lat.append(latlng['lat'])\n",
    "    lng.append(latlng['lng'])\n",
    "    sleep(0.1)\n",
    "lat"
   ]
  },
  {
   "cell_type": "code",
   "execution_count": 11,
   "metadata": {},
   "outputs": [
    {
     "data": {
      "text/html": [
       "<div>\n",
       "<style scoped>\n",
       "    .dataframe tbody tr th:only-of-type {\n",
       "        vertical-align: middle;\n",
       "    }\n",
       "\n",
       "    .dataframe tbody tr th {\n",
       "        vertical-align: top;\n",
       "    }\n",
       "\n",
       "    .dataframe thead th {\n",
       "        text-align: right;\n",
       "    }\n",
       "</style>\n",
       "<table border=\"1\" class=\"dataframe\">\n",
       "  <thead>\n",
       "    <tr style=\"text-align: right;\">\n",
       "      <th></th>\n",
       "      <th>Postcode</th>\n",
       "      <th>Borough</th>\n",
       "      <th>Neighbourhood</th>\n",
       "      <th>Latitude</th>\n",
       "      <th>Longitude</th>\n",
       "    </tr>\n",
       "  </thead>\n",
       "  <tbody>\n",
       "    <tr>\n",
       "      <th>0</th>\n",
       "      <td>M1B</td>\n",
       "      <td>Scarborough</td>\n",
       "      <td>Rouge, Malvern</td>\n",
       "      <td>43.806686</td>\n",
       "      <td>-79.194353</td>\n",
       "    </tr>\n",
       "    <tr>\n",
       "      <th>1</th>\n",
       "      <td>M1C</td>\n",
       "      <td>Scarborough</td>\n",
       "      <td>Highland Creek, Rouge Hill, Port Union</td>\n",
       "      <td>43.784535</td>\n",
       "      <td>-79.160497</td>\n",
       "    </tr>\n",
       "    <tr>\n",
       "      <th>2</th>\n",
       "      <td>M1E</td>\n",
       "      <td>Scarborough</td>\n",
       "      <td>Guildwood, Morningside, West Hill</td>\n",
       "      <td>43.763573</td>\n",
       "      <td>-79.188711</td>\n",
       "    </tr>\n",
       "    <tr>\n",
       "      <th>3</th>\n",
       "      <td>M1G</td>\n",
       "      <td>Scarborough</td>\n",
       "      <td>Woburn</td>\n",
       "      <td>43.770992</td>\n",
       "      <td>-79.216917</td>\n",
       "    </tr>\n",
       "    <tr>\n",
       "      <th>4</th>\n",
       "      <td>M1H</td>\n",
       "      <td>Scarborough</td>\n",
       "      <td>Cedarbrae</td>\n",
       "      <td>43.773136</td>\n",
       "      <td>-79.239476</td>\n",
       "    </tr>\n",
       "  </tbody>\n",
       "</table>\n",
       "</div>"
      ],
      "text/plain": [
       "  Postcode      Borough                           Neighbourhood   Latitude  \\\n",
       "0      M1B  Scarborough                          Rouge, Malvern  43.806686   \n",
       "1      M1C  Scarborough  Highland Creek, Rouge Hill, Port Union  43.784535   \n",
       "2      M1E  Scarborough       Guildwood, Morningside, West Hill  43.763573   \n",
       "3      M1G  Scarborough                                  Woburn  43.770992   \n",
       "4      M1H  Scarborough                               Cedarbrae  43.773136   \n",
       "\n",
       "   Longitude  \n",
       "0 -79.194353  \n",
       "1 -79.160497  \n",
       "2 -79.188711  \n",
       "3 -79.216917  \n",
       "4 -79.239476  "
      ]
     },
     "execution_count": 11,
     "metadata": {},
     "output_type": "execute_result"
    }
   ],
   "source": [
    "df = df.assign(Latitude=lat, Longitude=lng)\n",
    "df.head()"
   ]
  },
  {
   "cell_type": "code",
   "execution_count": null,
   "metadata": {},
   "outputs": [],
   "source": []
  }
 ],
 "metadata": {
  "kernelspec": {
   "display_name": "Python 3",
   "language": "python",
   "name": "python3"
  },
  "language_info": {
   "codemirror_mode": {
    "name": "ipython",
    "version": 3
   },
   "file_extension": ".py",
   "mimetype": "text/x-python",
   "name": "python",
   "nbconvert_exporter": "python",
   "pygments_lexer": "ipython3",
   "version": "3.6.4"
  }
 },
 "nbformat": 4,
 "nbformat_minor": 2
}
