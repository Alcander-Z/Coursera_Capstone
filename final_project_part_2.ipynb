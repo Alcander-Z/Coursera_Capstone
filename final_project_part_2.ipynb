{
 "cells": [
  {
   "cell_type": "markdown",
   "metadata": {},
   "source": [
    "<h1 align=\"center\"> Peer-graded Assignment: Capstone Project - The Battle of Neighborhoods</h1>\n",
    "<h2 align=\"center\"> Is a real estate sell price good, fair, or above average?</h2>"
   ]
  },
  {
   "cell_type": "markdown",
   "metadata": {},
   "source": [
    "### Background and Proposal"
   ]
  },
  {
   "cell_type": "markdown",
   "metadata": {},
   "source": [
    "When you want to by a car, you go to [AutoTrader](https://www.autotrader.ca/) or [CarGuru](https://ca.cargurus.com/). One sweet thing about using such websites is that they tell you the car you are interested has a below-market price or above market price based on their own algorithms. \n",
    "\n",
    "However, when you looking for either renting or buying a real estate from websites such as [Centris](https://www.centris.ca/en/) or [DuProprio](https://duproprio.com/en), you won't be able to find neither if similar real estate exists somewhere else in the city nor if it's price is below market (a.k.a., a good deal).\n",
    "\n",
    "Is such thing should be done? I certainly think so. One of my friends recently wants to buy a condomunium in Montreal. He told me it is exhausting to find an ideal condo to buy. Sometime the location is acceptable but the price is way above the budget, sometimes the price is fair but location isn't ideal. He literrally has to view all the available condos and compare them by heart to determine which one is the best.\n",
    "\n",
    "My friend's experience has intrggered me to develop a tool that can:\n",
    "\n",
    "1. find similar for sale real estate based on the one you are interested, and\n",
    "2. build a price regression model and predict if the sale price is above or below the market.\n",
    "\n",
    "This tool can help to fast locate other similar real estates once you have on in mind. It also sets a reference on price to help you determine which one is worth buying.\n",
    "\n",
    "How am I going to do it? The first and foremost step is to find the for sale real estates. I intend to use web crawler to get data from [DuProprio](https://duproprio.com/en). The real estate data shall have the following information:\n",
    "\n",
    "- address\n",
    "- sale price\n",
    "- number of rooms\n",
    "- areas\n",
    "- built year\n",
    "\n",
    "Then I will use the address to extract the neighbourhood informaiton from [Foursquare](https://foursquare.com/city-guide). I will categorize the neighbourhood venues into several main categories such as:\n",
    "\n",
    "- parks\n",
    "- grocery stores\n",
    "- schools\n",
    "- clinic/hospital\n",
    "- public transportation\n",
    "\n",
    "All the data shall be ready by now. The tool will take one specific real estate as an input and find all similar ones by using segmentation and clustering technique. A price regression model is further developed within one cluster. Using the regression model to predict the price for all similar real estates will give reference on price. Finally, display all the candidates in ascending order of (actual price - predicted price)."
   ]
  },
  {
   "cell_type": "markdown",
   "metadata": {},
   "source": [
    "### Data"
   ]
  },
  {
   "cell_type": "markdown",
   "metadata": {},
   "source": [
    "I used a [web scrawler](https://github.com/Alcander-Z/MTL_house) to collect data about real estate for sale from [DuProprio](https://duproprio.com/en/search/list?search=true&regions%5B0%5D=6&is_for_sale=1&with_builders=1&parent=1&pageNumber=1&sort=-published_at). The raw data is saved as JSON file. It is available at [Here]()\n",
    "\n",
    "Let's load it and convert to pandas DataFrame."
   ]
  },
  {
   "cell_type": "code",
   "execution_count": 1,
   "metadata": {},
   "outputs": [],
   "source": [
    "import json\n",
    "import pandas as pd"
   ]
  },
  {
   "cell_type": "code",
   "execution_count": 3,
   "metadata": {},
   "outputs": [],
   "source": [
    "with open(r'duproprio-20190517.json', 'r') as f:\n",
    "    jsf = json.load(f)\n",
    "df = pd.DataFrame.from_dict(jsf)"
   ]
  },
  {
   "cell_type": "markdown",
   "metadata": {},
   "source": [
    "Let's see the number of rows and columns of the dataframe"
   ]
  },
  {
   "cell_type": "code",
   "execution_count": 4,
   "metadata": {},
   "outputs": [
    {
     "data": {
      "text/plain": [
       "(1099, 13)"
      ]
     },
     "execution_count": 4,
     "metadata": {},
     "output_type": "execute_result"
    }
   ],
   "source": [
    "df.shape"
   ]
  },
  {
   "cell_type": "markdown",
   "metadata": {},
   "source": [
    "Let's the column names"
   ]
  },
  {
   "cell_type": "code",
   "execution_count": 5,
   "metadata": {},
   "outputs": [
    {
     "data": {
      "text/plain": [
       "array(['address', 'areas', 'backyard', 'bathrooms', 'bedrooms',\n",
       "       'category', 'floor_if_condo', 'levels', 'municipal', 'ownership',\n",
       "       'postalcode', 'price', 'year'], dtype=object)"
      ]
     },
     "execution_count": 5,
     "metadata": {},
     "output_type": "execute_result"
    }
   ],
   "source": [
    "df.columns.values"
   ]
  },
  {
   "cell_type": "markdown",
   "metadata": {},
   "source": [
    "There are 13 attributes (columns) of a real estate:\n",
    "\n",
    "- address and postalcode shall be used to define neighbourhood;\n",
    "- areas, bathrooms, bedrooms, years shall be used for the price regression model;\n",
    "\n",
    "Let's further look into the 'category' column:"
   ]
  },
  {
   "cell_type": "code",
   "execution_count": 6,
   "metadata": {},
   "outputs": [
    {
     "data": {
      "text/plain": [
       "Condominium      517\n",
       "New              110\n",
       "2                 80\n",
       "Duplex            72\n",
       "Bungalow          72\n",
       "Townhouse         63\n",
       "Triplex           54\n",
       "Semi-detached     39\n",
       "Split             22\n",
       "Quadruplex        19\n",
       "Quintuplex        14\n",
       "Commercial         8\n",
       "6                  6\n",
       "Loft               6\n",
       "Penthouse          4\n",
       "Residential        4\n",
       "Storey             4\n",
       "Raised             2\n",
       "3                  2\n",
       "Bi-generation      1\n",
       "Name: category, dtype: int64"
      ]
     },
     "execution_count": 6,
     "metadata": {},
     "output_type": "execute_result"
    }
   ],
   "source": [
    "df.category.value_counts()"
   ]
  },
  {
   "cell_type": "markdown",
   "metadata": {},
   "source": [
    "Category defines the type of a real estate. It is obvious that 'Condominium' is dominant in numbers among all. I will only use __condominium__ to continue the analysis."
   ]
  },
  {
   "cell_type": "code",
   "execution_count": 7,
   "metadata": {},
   "outputs": [
    {
     "data": {
      "text/html": [
       "<div>\n",
       "<style scoped>\n",
       "    .dataframe tbody tr th:only-of-type {\n",
       "        vertical-align: middle;\n",
       "    }\n",
       "\n",
       "    .dataframe tbody tr th {\n",
       "        vertical-align: top;\n",
       "    }\n",
       "\n",
       "    .dataframe thead th {\n",
       "        text-align: right;\n",
       "    }\n",
       "</style>\n",
       "<table border=\"1\" class=\"dataframe\">\n",
       "  <thead>\n",
       "    <tr style=\"text-align: right;\">\n",
       "      <th></th>\n",
       "      <th>address</th>\n",
       "      <th>areas</th>\n",
       "      <th>backyard</th>\n",
       "      <th>bathrooms</th>\n",
       "      <th>bedrooms</th>\n",
       "      <th>category</th>\n",
       "      <th>floor_if_condo</th>\n",
       "      <th>municipal</th>\n",
       "      <th>postalcode</th>\n",
       "      <th>price</th>\n",
       "      <th>year</th>\n",
       "    </tr>\n",
       "  </thead>\n",
       "  <tbody>\n",
       "    <tr>\n",
       "      <th>0</th>\n",
       "      <td>5985 Boyer, Rosemont / La Petite Patrie, QC</td>\n",
       "      <td>2,000 ft² (185.81 m²)</td>\n",
       "      <td>East</td>\n",
       "      <td>2.5</td>\n",
       "      <td>3.0</td>\n",
       "      <td>Condominium</td>\n",
       "      <td>1.0</td>\n",
       "      <td>394000.0</td>\n",
       "      <td>H2S 2H8</td>\n",
       "      <td>599000</td>\n",
       "      <td>1928</td>\n",
       "    </tr>\n",
       "    <tr>\n",
       "      <th>1</th>\n",
       "      <td>1008-3581 boulevard Gouin Est, Montréal-Nord, QC</td>\n",
       "      <td>1,100 ft² (102.19 m²)</td>\n",
       "      <td>None</td>\n",
       "      <td>1.5</td>\n",
       "      <td>2.0</td>\n",
       "      <td>Condominium</td>\n",
       "      <td>10.0</td>\n",
       "      <td>316600.0</td>\n",
       "      <td>H1H 0A1</td>\n",
       "      <td>349000</td>\n",
       "      <td>2006</td>\n",
       "    </tr>\n",
       "    <tr>\n",
       "      <th>2</th>\n",
       "      <td>16107 rue Forsyth, Pointe-Aux-Trembles / Montr...</td>\n",
       "      <td>911 ft² (84.63 m²)</td>\n",
       "      <td>North-West</td>\n",
       "      <td>1.0</td>\n",
       "      <td>2.0</td>\n",
       "      <td>Condominium</td>\n",
       "      <td>3.0</td>\n",
       "      <td>207200.0</td>\n",
       "      <td>H1A 5R8</td>\n",
       "      <td>200000</td>\n",
       "      <td>1999</td>\n",
       "    </tr>\n",
       "    <tr>\n",
       "      <th>3</th>\n",
       "      <td>711-680 rue de Courcelles, Le Sud-Ouest, QC</td>\n",
       "      <td>950 ft² (88.26 m²)</td>\n",
       "      <td>South</td>\n",
       "      <td>1.0</td>\n",
       "      <td>2.0</td>\n",
       "      <td>Condominium</td>\n",
       "      <td>7.0</td>\n",
       "      <td>339500.0</td>\n",
       "      <td>H4C 0B8</td>\n",
       "      <td>415000</td>\n",
       "      <td>2011</td>\n",
       "    </tr>\n",
       "    <tr>\n",
       "      <th>4</th>\n",
       "      <td>1-5230 rue Resther, Le Plateau-Mont-Royal, QC</td>\n",
       "      <td>106.4 m² (1 145.28 ft²)</td>\n",
       "      <td>None</td>\n",
       "      <td>2.5</td>\n",
       "      <td>2.0</td>\n",
       "      <td>Condominium</td>\n",
       "      <td>1.0</td>\n",
       "      <td>350700.0</td>\n",
       "      <td>H2J 2W3</td>\n",
       "      <td>415000</td>\n",
       "      <td>2005</td>\n",
       "    </tr>\n",
       "  </tbody>\n",
       "</table>\n",
       "</div>"
      ],
      "text/plain": [
       "                                             address                    areas  \\\n",
       "0        5985 Boyer, Rosemont / La Petite Patrie, QC    2,000 ft² (185.81 m²)   \n",
       "1   1008-3581 boulevard Gouin Est, Montréal-Nord, QC    1,100 ft² (102.19 m²)   \n",
       "2  16107 rue Forsyth, Pointe-Aux-Trembles / Montr...       911 ft² (84.63 m²)   \n",
       "3        711-680 rue de Courcelles, Le Sud-Ouest, QC       950 ft² (88.26 m²)   \n",
       "4      1-5230 rue Resther, Le Plateau-Mont-Royal, QC  106.4 m² (1 145.28 ft²)   \n",
       "\n",
       "     backyard  bathrooms  bedrooms     category  floor_if_condo  municipal  \\\n",
       "0        East        2.5       3.0  Condominium             1.0   394000.0   \n",
       "1        None        1.5       2.0  Condominium            10.0   316600.0   \n",
       "2  North-West        1.0       2.0  Condominium             3.0   207200.0   \n",
       "3       South        1.0       2.0  Condominium             7.0   339500.0   \n",
       "4        None        2.5       2.0  Condominium             1.0   350700.0   \n",
       "\n",
       "  postalcode   price  year  \n",
       "0    H2S 2H8  599000  1928  \n",
       "1    H1H 0A1  349000  2006  \n",
       "2    H1A 5R8  200000  1999  \n",
       "3    H4C 0B8  415000  2011  \n",
       "4    H2J 2W3  415000  2005  "
      ]
     },
     "execution_count": 7,
     "metadata": {},
     "output_type": "execute_result"
    }
   ],
   "source": [
    "subsets = ['price', 'address', 'category', 'year', 'bedrooms', 'bathrooms', 'areas', 'postalcode']\n",
    "df.dropna(subset=subsets, axis=0, inplace=True)\n",
    "df.drop(columns=['ownership', 'levels'], inplace=True)\n",
    "condo = df[df.category=='Condominium'].reset_index(drop=True)\n",
    "condo.head()"
   ]
  },
  {
   "cell_type": "code",
   "execution_count": 8,
   "metadata": {},
   "outputs": [
    {
     "name": "stdout",
     "output_type": "stream",
     "text": [
      "invalid backyard numbers:  231\n",
      "invalid municipal numbers:  241\n"
     ]
    }
   ],
   "source": [
    "print(\"invalid backyard numbers: \", condo.backyard.isna().sum())\n",
    "print(\"invalid municipal numbers: \", condo.municipal.isna().sum())"
   ]
  },
  {
   "cell_type": "markdown",
   "metadata": {},
   "source": [
    "There are a few things shall be done before city segmentation and price regression modeling:\n",
    "\n",
    "1. extract proper number of 'areas' from the string, (e.g., use $m^2$ as area unit);\n",
    "2. add neighbourhood information for each condo;\n",
    "3. use Foursquare to get venue information for each neighbourhood;\n",
    "4. drop category;\n",
    "5. drop backyard/municipal since nearly half of them are None."
   ]
  },
  {
   "cell_type": "code",
   "execution_count": 9,
   "metadata": {},
   "outputs": [],
   "source": [
    "condo.to_csv('condo_montreal.csv')"
   ]
  },
  {
   "cell_type": "code",
   "execution_count": null,
   "metadata": {},
   "outputs": [],
   "source": []
  }
 ],
 "metadata": {
  "kernelspec": {
   "display_name": "Python 3",
   "language": "python",
   "name": "python3"
  },
  "language_info": {
   "codemirror_mode": {
    "name": "ipython",
    "version": 3
   },
   "file_extension": ".py",
   "mimetype": "text/x-python",
   "name": "python",
   "nbconvert_exporter": "python",
   "pygments_lexer": "ipython3",
   "version": "3.6.4"
  }
 },
 "nbformat": 4,
 "nbformat_minor": 2
}
